{
 "cells": [
  {
   "cell_type": "markdown",
   "metadata": {},
   "source": [
    "# Members: Jace Nina,Kervin Hyka,Mohammed Uddin \n"
   ]
  },
  {
   "cell_type": "code",
   "execution_count": null,
   "metadata": {},
   "outputs": [],
   "source": [
    "import sqlite3\n",
    "from sqlite3 import Error\n",
    "import random"
   ]
  },
  {
   "cell_type": "markdown",
   "metadata": {},
   "source": [
    "#### Creating a Database"
   ]
  },
  {
   "cell_type": "code",
   "execution_count": null,
   "metadata": {},
   "outputs": [],
   "source": [
    "def create_connection(db_file):\n",
    "    conn = None\n",
    "    try:\n",
    "        conn = sqlite3.connect(db_file)\n",
    "        print(sqlite3.version)\n",
    "    except Error as e:\n",
    "        print(e)\n",
    "    return conn"
   ]
  },
  {
   "cell_type": "markdown",
   "metadata": {},
   "source": [
    "#### Creates Student, Enrolled and Courses tables"
   ]
  },
  {
   "cell_type": "code",
   "execution_count": null,
   "metadata": {},
   "outputs": [],
   "source": [
    "def create_table(conn):\n",
    "    if conn is not None:\n",
    "        student_table = \"\"\"CREATE TABLE IF NOT EXISTS  Students (\n",
    "                            sid integer PRIMARY KEY,\n",
    "                            sname text NOT NULL,\n",
    "                            age integer NOT NULL\n",
    "                            );\"\"\"\n",
    "        \n",
    "        courses_table = \"\"\"CREATE TABLE IF NOT EXISTS Courses(\n",
    "                            cid integer PRIMARY KEY,\n",
    "                            cname text,\n",
    "                            credits integer\n",
    "                            );\"\"\"\n",
    "\n",
    "        enrolled_table = \"\"\"CREATE TABLE IF NOT EXISTS Enrolled(\n",
    "                            sid integer,\n",
    "                            cid integer,\n",
    "                            grade integer,\n",
    "                            FOREIGN KEY (sid) REFERENCES Students (sid)\n",
    "                            FOREIGN KEY (cid) REFERENCES Courses (cid)\n",
    "                            );\"\"\"\n",
    "        try:\n",
    "            c = conn.cursor()\n",
    "            c.execute(student_table)\n",
    "            c.execute(courses_table)\n",
    "            c.execute(enrolled_table)\n",
    "        except Error as e:\n",
    "            print(e)\n",
    "    else:\n",
    "        print(\"Con not create the database connection\")\n"
   ]
  },
  {
   "cell_type": "markdown",
   "metadata": {},
   "source": [
    "#### Crates new student record"
   ]
  },
  {
   "cell_type": "code",
   "execution_count": null,
   "metadata": {},
   "outputs": [],
   "source": [
    "def create_student(conn, sid, sname, age):\n",
    "    sql = '''INSERT INTO Students(sid, sname, age)\n",
    "            VALUES(?,?,?)'''\n",
    "    values = sid,sname,age\n",
    "    cur = conn.cursor()\n",
    "    cur.execute(sql,values)\n",
    "    conn.commit()\n",
    "    cur.close()\n"
   ]
  },
  {
   "cell_type": "markdown",
   "metadata": {},
   "source": [
    "### Creates new course record"
   ]
  },
  {
   "cell_type": "code",
   "execution_count": null,
   "metadata": {},
   "outputs": [],
   "source": [
    "def create_course(conn,cid,cname,credit):\n",
    "    sql = '''INSERT INTO Courses(cid,cname,credits)\n",
    "             VALUES(?,?,?)\n",
    "             '''\n",
    "    values = cid,cname,credit\n",
    "    cur = conn.cursor()\n",
    "    cur.execute(sql,values)\n",
    "    conn.commit()\n",
    "    cur.close()\n",
    "    "
   ]
  },
  {
   "cell_type": "markdown",
   "metadata": {},
   "source": [
    "### Creates new enrollment"
   ]
  },
  {
   "cell_type": "code",
   "execution_count": null,
   "metadata": {},
   "outputs": [],
   "source": [
    "def create_enrollment(conn,sid,cid,grade):\n",
    "    sql = '''INSERT INTO Enrolled(sid,cid,grade)\n",
    "             VALUES(?,?,?)'''\n",
    "    values = sid,cid,grade\n",
    "    cur = conn.cursor()\n",
    "    cur.execute(sql,values)\n",
    "    conn.commit()\n",
    "    cur.close()"
   ]
  },
  {
   "cell_type": "markdown",
   "metadata": {},
   "source": [
    "### Delete Enrollment"
   ]
  },
  {
   "cell_type": "code",
   "execution_count": null,
   "metadata": {},
   "outputs": [],
   "source": [
    "def delete_enrollment(conn,sid,cid):\n",
    "    sql = 'DELETE FROM Enrolled WHERE sid = ? AND cid = ?'\n",
    "    values = sid,cid\n",
    "    cur = conn.cursor()\n",
    "    cur.execute(sql,values)\n",
    "    conn.commit()\n",
    "    cur.close()"
   ]
  },
  {
   "cell_type": "markdown",
   "metadata": {},
   "source": [
    "### Retrieve  a student from the database"
   ]
  },
  {
   "cell_type": "code",
   "execution_count": null,
   "metadata": {},
   "outputs": [],
   "source": [
    "def get_student(conn,sid):\n",
    "    sql = \"SELECT sid,sname,age FROM Students WHERE sid = ?\"\n",
    "    cur = conn.cursor()\n",
    "    cur.execute(sql,sid)\n",
    "    stud = cur.fetchall()[0]\n",
    "    cur.close()\n",
    "    return str(stud).replace(\"(\",\"\").replace(\"'\",\"\").replace(\",\",\"\").replace(\")\",\"\")\n"
   ]
  },
  {
   "cell_type": "markdown",
   "metadata": {},
   "source": [
    "### Checks if a students exists in the database"
   ]
  },
  {
   "cell_type": "code",
   "execution_count": null,
   "metadata": {},
   "outputs": [],
   "source": [
    "def sid_exists(conn, sid):\n",
    "    sql = \"SELECT count(*) FROM Students WHERE sid = ?\"\n",
    "    cur = conn.cursor()\n",
    "    cur.execute(sql,sid)\n",
    "    if (cur.fetchall()[0] > (0,)):\n",
    "        cur.close()\n",
    "        return True\n",
    "    else:\n",
    "        cur.close()\n",
    "        return False\n",
    "\n",
    "    \n",
    "        "
   ]
  },
  {
   "cell_type": "markdown",
   "metadata": {},
   "source": [
    "#### Checks if a Course exists in the database"
   ]
  },
  {
   "cell_type": "code",
   "execution_count": null,
   "metadata": {},
   "outputs": [],
   "source": [
    "def cid_exists(conn, cid):\n",
    "    sql = \"SELECT count(*) FROM Courses WHERE cid = ?\"\n",
    "    cur = conn.cursor()\n",
    "    cur.execute(sql,(cid,))\n",
    "    if (cur.fetchall()[0] > (0,)):\n",
    "        cur.close()\n",
    "        return True\n",
    "    else:\n",
    "        cur.close()\n",
    "        return False"
   ]
  },
  {
   "cell_type": "markdown",
   "metadata": {},
   "source": [
    "#### Check if Enrolled table is empty"
   ]
  },
  {
   "cell_type": "code",
   "execution_count": null,
   "metadata": {},
   "outputs": [],
   "source": [
    "def check_enrolled_empty(conn):\n",
    "    sql = \"SELECT count(*) FROM Enrolled\"\n",
    "    cur = conn.cursor()\n",
    "    cur.execute(sql)\n",
    "    if(cur.fetchall() == [(0,)]):\n",
    "        return True\n",
    "    else:\n",
    "        return False"
   ]
  },
  {
   "cell_type": "markdown",
   "metadata": {},
   "source": [
    "#### Check if Courses table is empty"
   ]
  },
  {
   "cell_type": "code",
   "execution_count": null,
   "metadata": {},
   "outputs": [],
   "source": [
    "def check_courses_empty(conn):\n",
    "    sql = \"SELECT count(*) FROM Courses\"\n",
    "    cur = conn.cursor()\n",
    "    cur.execute(sql)\n",
    "    if(cur.fetchall() == [(0,)]):\n",
    "        return True\n",
    "    else:\n",
    "        return False"
   ]
  },
  {
   "cell_type": "markdown",
   "metadata": {},
   "source": [
    "#### Check if the student is already enrolled in the course"
   ]
  },
  {
   "cell_type": "code",
   "execution_count": null,
   "metadata": {},
   "outputs": [],
   "source": [
    "def check_already_enrolled(conn,sid,cid):\n",
    "    sql = \"SELECT count(*) FROM Enrolled WHERE sid = ? and cid = ?\"\n",
    "    values = (sid, cid)\n",
    "    cur = conn.cursor()\n",
    "    cur.execute(sql,values)\n",
    "    if(cur.fetchall()[0][0] > 0):\n",
    "        return True\n",
    "    else:\n",
    "        return False\n"
   ]
  },
  {
   "cell_type": "markdown",
   "metadata": {},
   "source": [
    "#### List All Record in Course Table"
   ]
  },
  {
   "cell_type": "code",
   "execution_count": null,
   "metadata": {},
   "outputs": [],
   "source": [
    "def list_all_courses(conn):\n",
    "    sql = \"SELECT * FROM Courses\"\n",
    "    cur = conn.cursor()\n",
    "    cur.execute(sql)\n",
    "\n",
    "    courses = cur.fetchall()\n",
    "\n",
    "    if(courses == []):\n",
    "        print(\"Error: No courses are available\")\n",
    "    else:\n",
    "        print(\"List of all available courses\")\n",
    "        print(\"Course ID\\t|\\tCourse Name\\t|\\tCourse Credits\")\n",
    "        for courses in courses:\n",
    "            print(str(courses).replace(\"(\",\"\").replace(\"'\",\"\").replace(\",\",\"\\t|\\t\").replace(\")\",\"\"))"
   ]
  },
  {
   "cell_type": "markdown",
   "metadata": {},
   "source": [
    "#### Check if student is enrolled in all courses"
   ]
  },
  {
   "cell_type": "code",
   "execution_count": null,
   "metadata": {},
   "outputs": [],
   "source": [
    "def enrolled_all_courses(conn,sid):\n",
    "    sqlEn = \"SELECT count(*) FROM Enrolled WHERE sid = ?\"\n",
    "    sqlCourse = \"SELECT count(*) FROM Courses\"\n",
    "    curEn = conn.cursor()\n",
    "    curCourse = conn.cursor()\n",
    "    curCourse.execute(sqlCourse)\n",
    "    curEn.execute(sqlEn,(sid,))\n",
    "\n",
    "    enrolled = curEn.fetchall()\n",
    "    course = curCourse.fetchall()\n",
    "\n",
    "    if(enrolled == course and course != [(0,)]):\n",
    "        return True\n",
    "    else:\n",
    "        return False\n"
   ]
  },
  {
   "cell_type": "markdown",
   "metadata": {},
   "source": [
    "#### Enrollment for a student"
   ]
  },
  {
   "cell_type": "code",
   "execution_count": null,
   "metadata": {},
   "outputs": [],
   "source": [
    "def enroll_in_course(conn, sid):\n",
    "    if check_courses_empty(conn):\n",
    "        print(\"Error: There are no available courses to enroll in\")\n",
    "    elif(enrolled_all_courses(conn,sid)):\n",
    "        print(\"Error: You are already enrolled in all courses\")\n",
    "    else:\n",
    "        while True:\n",
    "            try:\n",
    "                cid = int(input(\"Enter a course id: \"))\n",
    "                if cid_exists(conn, str(cid)):\n",
    "                    if check_already_enrolled(conn, sid, str(cid)):\n",
    "                        print(\"Error: You are already enrolled in this course\")\n",
    "                    else:\n",
    "                        create_enrollment(conn, sid, str(cid), \"\")\n",
    "                        print(\"Enrollment created successfully\")\n",
    "                        break\n",
    "                else:\n",
    "                    print(\"Error: This course does not exist\")\n",
    "            except ValueError:\n",
    "                print(\"Error: Enter a valid course id (integer)\")\n",
    "                break\n"
   ]
  },
  {
   "cell_type": "markdown",
   "metadata": {},
   "source": [
    "#### Search Courses"
   ]
  },
  {
   "cell_type": "code",
   "execution_count": null,
   "metadata": {},
   "outputs": [],
   "source": [
    "def search_course(conn):\n",
    "    cname = input(\"Enter course name\")\n",
    "\n",
    "    sql = 'SELECT * FROM Courses WHERE cname LIKE \\\"%?%\\\"'\n",
    "    cur = conn.cursor()\n",
    "    cur.execute(sql.replace(\"?\",cname))\n",
    "\n",
    "    course = cur.fetchall()\n",
    "    if(course == []):\n",
    "        print(\"Error: No such course exist\")\n",
    "    else:\n",
    "        print(\"Course ID\\t|\\tCourse Name\\t|\\tCourse Credits\")\n",
    "        for course in course:\n",
    "            print(str(course).replace(\"(\",\"\").replace(\"'\",\"\").replace(\",\",\"\\t|\\t\").replace(\")\",\"\"))\n",
    "\n"
   ]
  },
  {
   "cell_type": "markdown",
   "metadata": {},
   "source": [
    "#### List of courses taken by an active student"
   ]
  },
  {
   "cell_type": "code",
   "execution_count": null,
   "metadata": {},
   "outputs": [],
   "source": [
    "def list_my_courses(conn,sid):\n",
    "    sql = \"SELECT c.cid, c.cname, c.credits FROM Enrolled as e, Courses as c WHERE e.cid = c.cid AND e.sid = ?\"\n",
    "    cur = conn.cursor()\n",
    "    cur.execute(sql,str(sid))\n",
    "    course = cur.fetchall()\n",
    "\n",
    "    if(course == []):\n",
    "        print(\"Error: No such course exist\")\n",
    "    else:\n",
    "        print(\"Course ID\\t|\\tCourse Name\\t|\\tCourse Credits\")\n",
    "        for course in course:\n",
    "            print(str(course).replace(\"(\",\"\").replace(\"'\",\"\").replace(\",\",\"\\t|\\t\").replace(\")\",\"\"))\n"
   ]
  },
  {
   "cell_type": "markdown",
   "metadata": {},
   "source": [
    "#### Check if Student is enrolled in a course"
   ]
  },
  {
   "cell_type": "code",
   "execution_count": null,
   "metadata": {},
   "outputs": [],
   "source": [
    "def check_student_enrolled_in_course(conn,sid):\n",
    "    sql = \"SELECT count(*) FROM Enrolled WHERE sid = ?\"\n",
    "    cur = conn.cursor()\n",
    "    cur.execute(sql,(sid,))\n",
    "    if(cur.fetchall()[0][0] > 0):\n",
    "        return True\n",
    "    else:\n",
    "        return False"
   ]
  },
  {
   "cell_type": "markdown",
   "metadata": {},
   "source": [
    "#### Withdraw from a course"
   ]
  },
  {
   "cell_type": "code",
   "execution_count": null,
   "metadata": {},
   "outputs": [],
   "source": [
    "def withdraw(conn, sid):\n",
    "    if check_courses_empty(conn):\n",
    "        print(\"There are no courses to withdraw from\")\n",
    "    elif check_student_enrolled_in_course(conn, sid):\n",
    "        print(\"Withdraw from a course\")\n",
    "\n",
    "        while True:\n",
    "            cid = input(\"Enter a course id\")\n",
    "            if cid_exists(conn, cid):\n",
    "                if check_already_enrolled(conn, sid, cid):\n",
    "                    break\n",
    "                else:\n",
    "                    print(\"You are not enrolled in this course\")\n",
    "            else:\n",
    "                print(\"Error: Course does not exist\")\n",
    "\n",
    "        delete_enrollment(conn, sid, cid)\n",
    "        print(\"Withdrawn from course successfully\")\n",
    "    else:\n",
    "        print(\"You are not enrolled in any courses\")\n"
   ]
  },
  {
   "cell_type": "markdown",
   "metadata": {},
   "source": [
    "### Adding 5 students to database"
   ]
  },
  {
   "cell_type": "code",
   "execution_count": null,
   "metadata": {},
   "outputs": [],
   "source": [
    "def add5_students(conn):\n",
    "    names = ['Makena Rosário','Jesse Kjellsson','Anđelko Jedynak','Pomponius Payton',\n",
    "             'Walther Alexandersson', 'Aviya Albuquerque', 'Priyanka Béranger', 'Elia Baldinotti']\n",
    "    courseName = ['Psycholinguistics','Algebraic Computation','Sonochemistry','Historical Geography','Combinatorial Mathematics',\n",
    "    'Narratology and Storytelling','Managerial Economics','Leadership Development','Conspiracy Theories', 'Behavioral Neuroscience']\n",
    "    unique_ids = random.sample(range(1, 11), 5)\n",
    "    cidarr = []\n",
    "    for x in unique_ids:\n",
    "        sid = random.randint(1,10)\n",
    "        age = random.randint(20,30)\n",
    "        num = random.randint(0,5)\n",
    "        sname = names[num]\n",
    "        create_student(conn, sid, sname,age)\n",
    "\n",
    "        cid = random.randint(1024,5024)\n",
    "        cidarr.append(cid)\n",
    "        cnum = random.randint(0, len(courseName) - 1)\n",
    "        cname = courseName[cnum]\n",
    "        credits = random.randint(2,4)\n",
    "        create_course(conn,cid,cname,credits)\n",
    "\n",
    "    for i in unique_ids:\n",
    "        for j in cidarr:\n",
    "            grade = random.randint(60,100)\n",
    "            create_enrollment(conn,i,j,grade)\n",
    "\n",
    "\n"
   ]
  },
  {
   "cell_type": "markdown",
   "metadata": {},
   "source": [
    "#### Get student name only"
   ]
  },
  {
   "cell_type": "code",
   "execution_count": null,
   "metadata": {},
   "outputs": [],
   "source": [
    "def get_student_name(conn,sid):\n",
    "    sql = \"SELECT sname FROM Students WHERE sid = ?\"\n",
    "    cur = conn.cursor()\n",
    "    cur.execute(sql,(sid,))\n",
    "    stud = cur.fetchall()[0]\n",
    "    cur.close()\n",
    "    return str(stud).replace(\"(\",\"\").replace(\"'\",\"\").replace(\",\",\"\").replace(\")\",\"\")"
   ]
  },
  {
   "cell_type": "markdown",
   "metadata": {},
   "source": [
    "#### Create a new student entry"
   ]
  },
  {
   "cell_type": "code",
   "execution_count": null,
   "metadata": {},
   "outputs": [],
   "source": [
    "import re\n",
    "\n",
    "\n",
    "def add_new_student(conn):\n",
    "    #Get Student ID number\n",
    "    while(True):\n",
    "        try:\n",
    "            sid = int(input(\"Enter an student id number\"))\n",
    "\n",
    "            if(sid_exists(conn,str(sid))):\n",
    "                print(\"Error: Student id already exist for a different student\")\n",
    "            elif(sid < 0):\n",
    "                print(\"Error: Student id must be a positive number\")\n",
    "            else:\n",
    "                break\n",
    "        except:\n",
    "            print(\"Error: Enter a valid student ID number1\")\n",
    "    #Get Student Name\n",
    "    while(True):\n",
    "        try:\n",
    "            sname = input(\"Enter your name\")\n",
    "            if(bool(re.match('[a-zA-Z\\s]+$', sname))):\n",
    "                break\n",
    "            else:\n",
    "                print(\"Error: Name must be letters from A-Z\")\n",
    "        except:\n",
    "            print(\"Error: Enter a valid name\")\n",
    "\n",
    "    while(True):\n",
    "        try:\n",
    "            age = int(input(\"Enter your age\"))\n",
    "            if(age < 0):\n",
    "                print(\"Error: Enter a positive age\")\n",
    "            elif(age > 17 and age < 70):\n",
    "                break\n",
    "            else:\n",
    "                print(\"Please enter a valid age\")\n",
    "        except:\n",
    "            print(\"Error: Enter a valid age between 17 and 70\")\n",
    "\n",
    "    create_student(conn,sid,sname,age)\n",
    "    print(\"Student account successfully created\")\n"
   ]
  },
  {
   "cell_type": "markdown",
   "metadata": {},
   "source": [
    "#### User Interface Start UP"
   ]
  },
  {
   "cell_type": "code",
   "execution_count": null,
   "metadata": {},
   "outputs": [],
   "source": [
    "def main():\n",
    "\n",
    "    database = r\"student_management_system.db\"\n",
    "\n",
    "    #create the database\n",
    "    conn = create_connection(database)\n",
    "\n",
    "    #create the tables\n",
    "    if conn is not None:\n",
    "        create_table(conn)\n",
    "    else:\n",
    "        print(\"Error cannot connect the database connection.\")\n",
    "\n",
    "    # Use this function only when there is no database created already or only when the database is completely empty\n",
    "    #add5_students(conn)\n",
    "\n",
    "\n",
    "    print(\"Welcome to Montclair State University Registration System\")\n",
    "    while(True):\n",
    "        try:\n",
    "            sid = int(input(\"For existing students\\n\"+\n",
    "                        \"Enter your student Id\\n\"+\n",
    "                        \"For new students\\n\"+\n",
    "                        \"Enter -1 to register\\n\"\n",
    "                        ))\n",
    "            if (sid == -1):\n",
    "                add_new_student(conn)\n",
    "            elif(sid_exists(conn,str(sid))):\n",
    "                break\n",
    "            else:\n",
    "                print(\"Student id does not exist in the database\")\n",
    "        except:\n",
    "            print(\"Error: Enter a valid student id number\")\n",
    "\n",
    "    print(\"Welcome Back to Montclair State University Registration System! \",get_student_name(conn,sid))\n",
    "    while True:\n",
    "\n",
    "        user_input = input(\"Enter a command\\n\"+\n",
    "                \"L – List: lists all records in the course table\\n\" +\n",
    "                \"E – Enroll: Enroll in a course\\n\"+\n",
    "                \"W – Withdraw: Withdraw yourself from a course \\n\"+\n",
    "                \"S – Search: Search for a course by name\\n\"+\n",
    "                \"M – My Classes: lists all my classes\\n\"+\n",
    "                \"X – Exit: exit application\\n\"\n",
    "                            )\n",
    "        if user_input == \"L\":\n",
    "            list_all_courses(conn)\n",
    "        elif user_input == \"E\":\n",
    "            enroll_in_course(conn, sid)\n",
    "        elif user_input == \"W\":\n",
    "            withdraw(conn, sid)\n",
    "        elif user_input == \"S\":\n",
    "            search_course(conn)\n",
    "        elif user_input == \"M\":\n",
    "            list_my_courses(conn, sid)\n",
    "        elif user_input == \"X\":\n",
    "            print(\"Thank You for using Montclair State University Registration System\")\n",
    "            break\n",
    "        elif user_input == \"\":\n",
    "            print(\"Error: Enter a valid command\")\n",
    "\n",
    "    "
   ]
  },
  {
   "cell_type": "code",
   "execution_count": null,
   "metadata": {},
   "outputs": [],
   "source": [
    "if __name__ == '__main__':\n",
    "    main()"
   ]
  },
  {
   "cell_type": "code",
   "execution_count": null,
   "metadata": {},
   "outputs": [],
   "source": []
  }
 ],
 "metadata": {
  "kernelspec": {
   "display_name": "Python 3 (ipykernel)",
   "language": "python",
   "name": "python3"
  },
  "language_info": {
   "codemirror_mode": {
    "name": "ipython",
    "version": 3
   },
   "file_extension": ".py",
   "mimetype": "text/x-python",
   "name": "python",
   "nbconvert_exporter": "python",
   "pygments_lexer": "ipython3",
   "version": "3.9.7"
  },
  "vscode": {
   "interpreter": {
    "hash": "aee8b7b246df8f9039afb4144a1f6fd8d2ca17a180786b69acc140d282b71a49"
   }
  }
 },
 "nbformat": 4,
 "nbformat_minor": 2
}
